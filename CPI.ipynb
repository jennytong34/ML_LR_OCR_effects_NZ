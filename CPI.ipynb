{
 "cells": [
  {
   "cell_type": "code",
   "execution_count": 26,
   "metadata": {},
   "outputs": [
    {
     "name": "stdout",
     "output_type": "stream",
     "text": [
      "          CPI   OCR\n",
      "0    0.400000  0.00\n",
      "1    0.233333  0.00\n",
      "2    0.066667  0.00\n",
      "3   -0.100000  4.50\n",
      "4   -0.200000  4.50\n",
      "..        ...   ...\n",
      "272  4.366667  0.25\n",
      "273  4.900000  0.25\n",
      "274  5.233333  0.50\n",
      "275  5.566667  0.75\n",
      "276  5.900000  0.75\n",
      "\n",
      "[277 rows x 2 columns]\n"
     ]
    }
   ],
   "source": [
    "import numpy as nd\n",
    "import pandas as pd\n",
    "\n",
    "df=pd.read_csv('CPI.csv')\n",
    "df['Date'] = pd.to_datetime(df['Date']).dt.to_period('M')\n",
    "df=df.set_index('Date').resample('M').interpolate()\n",
    "df_OCR=pd.read_csv('OCR.csv')\n",
    "OCR_data=df_OCR.iloc[:,1:]\n",
    "df['OCR']=OCR_data.values\n",
    "df.reset_index(drop=True, inplace=True)\n"
   ]
  },
  {
   "cell_type": "code",
   "execution_count": 35,
   "metadata": {},
   "outputs": [
    {
     "data": {
      "text/plain": [
       "LinearRegression(n_jobs=1, normalize=False)"
      ]
     },
     "execution_count": 35,
     "metadata": {},
     "output_type": "execute_result"
    }
   ],
   "source": [
    "#Import the dataset and Extract the independent variable (X) and the dependent variable(y)\n",
    "\n",
    "X=df.iloc[:,1].values\n",
    "y=df.iloc[:,0].values\n",
    "df.head\n",
    "\n",
    "from sklearn.model_selection import train_test_split\n",
    "X_train, X_test, y_train, y_test = train_test_split(X, y, test_size = 0.2, random_state = 0)\n",
    "\n",
    "X_train=X_train.reshape(-1,1)\n",
    "y_train=y_train.reshape(-1,1)\n",
    "X_test=X_test.reshape(-1,1)\n",
    "y_test=y_test.reshape(-1,1)\n",
    "\n",
    "from sklearn.linear_model import LinearRegression\n",
    "\n",
    "\n",
    "regressor = LinearRegression()\n",
    "regressor.fit(X_train, y_train)\n",
    "LinearRegression(copy_X=True, fit_intercept=True, n_jobs=1, normalize=False)"
   ]
  },
  {
   "cell_type": "code",
   "execution_count": 36,
   "metadata": {},
   "outputs": [
    {
     "data": {
      "text/plain": [
       "array([[1.74669894],\n",
       "       [1.74669894],\n",
       "       [2.04312666],\n",
       "       [2.42424801],\n",
       "       [2.29720756],\n",
       "       [2.00077984],\n",
       "       [1.6196585 ],\n",
       "       [2.59363527],\n",
       "       [1.83139258],\n",
       "       [1.49261805],\n",
       "       [2.55128846],\n",
       "       [2.29720756],\n",
       "       [1.87373939],\n",
       "       [1.87373939],\n",
       "       [2.84771617],\n",
       "       [1.87373939],\n",
       "       [2.55128846],\n",
       "       [1.95843303],\n",
       "       [2.33955437],\n",
       "       [1.87373939],\n",
       "       [1.87373939],\n",
       "       [2.21251393],\n",
       "       [2.21251393],\n",
       "       [2.67832891],\n",
       "       [1.6196585 ],\n",
       "       [2.55128846],\n",
       "       [2.04312666],\n",
       "       [2.29720756],\n",
       "       [2.84771617],\n",
       "       [2.67832891],\n",
       "       [1.87373939],\n",
       "       [2.38190119],\n",
       "       [2.21251393],\n",
       "       [1.87373939],\n",
       "       [2.67832891],\n",
       "       [1.95843303],\n",
       "       [1.49261805],\n",
       "       [1.74669894],\n",
       "       [2.84771617],\n",
       "       [2.42424801],\n",
       "       [1.87373939],\n",
       "       [1.87373939],\n",
       "       [1.74669894],\n",
       "       [1.49261805],\n",
       "       [1.49261805],\n",
       "       [2.04312666],\n",
       "       [1.49261805],\n",
       "       [2.84771617],\n",
       "       [2.42424801],\n",
       "       [1.87373939],\n",
       "       [1.95843303],\n",
       "       [1.70435213],\n",
       "       [2.50894164],\n",
       "       [1.74669894],\n",
       "       [1.87373939],\n",
       "       [2.04312666]])"
      ]
     },
     "execution_count": 36,
     "metadata": {},
     "output_type": "execute_result"
    }
   ],
   "source": [
    "y_pred = regressor.predict(X_test)\n",
    "y_pred"
   ]
  },
  {
   "cell_type": "code",
   "execution_count": 42,
   "metadata": {},
   "outputs": [
    {
     "name": "stdout",
     "output_type": "stream",
     "text": [
      "[[0.16938727]]\n"
     ]
    },
    {
     "data": {
      "text/plain": [
       "0.12756364711142565"
      ]
     },
     "execution_count": 42,
     "metadata": {},
     "output_type": "execute_result"
    }
   ],
   "source": [
    "print(regressor.coef_)\n",
    "\n",
    "from sklearn.metrics import r2_score\n",
    "r2_score(y_test, y_pred)"
   ]
  }
 ],
 "metadata": {
  "interpreter": {
   "hash": "aee8b7b246df8f9039afb4144a1f6fd8d2ca17a180786b69acc140d282b71a49"
  },
  "kernelspec": {
   "display_name": "Python 3.9.7 64-bit",
   "language": "python",
   "name": "python3"
  },
  "language_info": {
   "codemirror_mode": {
    "name": "ipython",
    "version": 3
   },
   "file_extension": ".py",
   "mimetype": "text/x-python",
   "name": "python",
   "nbconvert_exporter": "python",
   "pygments_lexer": "ipython3",
   "version": "3.9.7"
  },
  "orig_nbformat": 4
 },
 "nbformat": 4,
 "nbformat_minor": 2
}

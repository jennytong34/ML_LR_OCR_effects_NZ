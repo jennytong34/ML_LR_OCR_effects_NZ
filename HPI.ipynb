{
 "cells": [
  {
   "cell_type": "code",
   "execution_count": 48,
   "metadata": {},
   "outputs": [
    {
     "name": "stdout",
     "output_type": "stream",
     "text": [
      "     HPI for houses, index   OCR\n",
      "0               689.800000  0.00\n",
      "1               693.566667  0.00\n",
      "2               697.333333  0.00\n",
      "3               701.100000  4.50\n",
      "4               702.400000  4.50\n",
      "..                     ...   ...\n",
      "266            3279.700000  0.25\n",
      "267            3379.100000  0.25\n",
      "268            3417.733333  0.25\n",
      "269            3456.366667  0.25\n",
      "270            3495.000000  0.25\n",
      "\n",
      "[271 rows x 2 columns]\n"
     ]
    }
   ],
   "source": [
    "import numpy as nd\n",
    "import pandas as pd\n",
    "\n",
    "df=pd.read_csv('HPI.csv')\n",
    "\n",
    "df['Date'] = pd.to_datetime(df['Date']).dt.to_period('M')\n",
    "df=df.set_index('Date').resample('M').interpolate()\n",
    "df_OCR=pd.read_csv('OCR.csv')\n",
    "OCR_data=df_OCR.iloc[:,1:]\n",
    "df['OCR']=OCR_data.values\n",
    "df.reset_index(drop=True, inplace=True)\n",
    "print(df)\n"
   ]
  },
  {
   "cell_type": "code",
   "execution_count": 51,
   "metadata": {},
   "outputs": [
    {
     "data": {
      "text/plain": [
       "LinearRegression(n_jobs=1, normalize=False)"
      ]
     },
     "execution_count": 51,
     "metadata": {},
     "output_type": "execute_result"
    }
   ],
   "source": [
    "X=df.iloc[:,1].values\n",
    "y=df.iloc[:,0].values\n",
    "df.head\n",
    "\n",
    "\n",
    "from sklearn.model_selection import train_test_split\n",
    "X_train, X_test, y_train, y_test = train_test_split(X, y, test_size = 0.2, random_state = 0)\n",
    "\n",
    "X_train=X_train.reshape(-1,1)\n",
    "y_train=y_train.reshape(-1,1)\n",
    "X_test=X_test.reshape(-1,1)\n",
    "y_test=y_test.reshape(-1,1)\n",
    "\n",
    "from sklearn.linear_model import LinearRegression\n",
    "\n",
    "\n",
    "regressor = LinearRegression()\n",
    "regressor.fit(X_train, y_train)\n",
    "LinearRegression(copy_X=True, fit_intercept=True, n_jobs=1, normalize=False)"
   ]
  },
  {
   "cell_type": "code",
   "execution_count": 54,
   "metadata": {},
   "outputs": [
    {
     "data": {
      "text/plain": [
       "array([[1281.2989367 ],\n",
       "       [1842.97819815],\n",
       "       [1983.39801351],\n",
       "       [1842.97819815],\n",
       "       [2123.81782888],\n",
       "       [1749.36498791],\n",
       "       [1655.75177767],\n",
       "       [1842.97819815],\n",
       "       [2264.23764424],\n",
       "       [1234.49233158],\n",
       "       [1889.78480327],\n",
       "       [1842.97819815],\n",
       "       [1842.97819815],\n",
       "       [1842.97819815],\n",
       "       [1468.52535718],\n",
       "       [1983.39801351],\n",
       "       [1234.49233158],\n",
       "       [1749.36498791],\n",
       "       [1374.91214694],\n",
       "       [ 766.42628037],\n",
       "       [ 860.03949061],\n",
       "       [1374.91214694],\n",
       "       [1468.52535718],\n",
       "       [1047.26591109],\n",
       "       [2123.81782888],\n",
       "       [1000.45930597],\n",
       "       [1655.75177767],\n",
       "       [1842.97819815],\n",
       "       [1983.39801351],\n",
       "       [1655.75177767],\n",
       "       [ 953.65270085],\n",
       "       [1094.07251621],\n",
       "       [1702.55838279],\n",
       "       [1983.39801351],\n",
       "       [1983.39801351],\n",
       "       [2264.23764424],\n",
       "       [ 953.65270085],\n",
       "       [1842.97819815],\n",
       "       [1655.75177767],\n",
       "       [1983.39801351],\n",
       "       [1842.97819815],\n",
       "       [1140.87912134],\n",
       "       [1842.97819815],\n",
       "       [1842.97819815],\n",
       "       [1983.39801351],\n",
       "       [1421.71875206],\n",
       "       [1983.39801351],\n",
       "       [1842.97819815],\n",
       "       [1094.07251621],\n",
       "       [1842.97819815],\n",
       "       [1842.97819815],\n",
       "       [2030.20461864],\n",
       "       [2264.23764424],\n",
       "       [1983.39801351],\n",
       "       [1468.52535718]])"
      ]
     },
     "execution_count": 54,
     "metadata": {},
     "output_type": "execute_result"
    }
   ],
   "source": [
    "y_pred = regressor.predict(X_test)\n",
    "y_pred\n"
   ]
  },
  {
   "cell_type": "code",
   "execution_count": 55,
   "metadata": {},
   "outputs": [
    {
     "name": "stdout",
     "output_type": "stream",
     "text": [
      "[[-187.22642048]]\n"
     ]
    },
    {
     "data": {
      "text/plain": [
       "0.530511747423932"
      ]
     },
     "execution_count": 55,
     "metadata": {},
     "output_type": "execute_result"
    }
   ],
   "source": [
    "print(regressor.coef_)\n",
    "\n",
    "from sklearn.metrics import r2_score\n",
    "r2_score(y_test, y_pred)"
   ]
  }
 ],
 "metadata": {
  "interpreter": {
   "hash": "aee8b7b246df8f9039afb4144a1f6fd8d2ca17a180786b69acc140d282b71a49"
  },
  "kernelspec": {
   "display_name": "Python 3.9.7 64-bit",
   "language": "python",
   "name": "python3"
  },
  "language_info": {
   "codemirror_mode": {
    "name": "ipython",
    "version": 3
   },
   "file_extension": ".py",
   "mimetype": "text/x-python",
   "name": "python",
   "nbconvert_exporter": "python",
   "pygments_lexer": "ipython3",
   "version": "3.9.7"
  },
  "orig_nbformat": 4
 },
 "nbformat": 4,
 "nbformat_minor": 2
}
